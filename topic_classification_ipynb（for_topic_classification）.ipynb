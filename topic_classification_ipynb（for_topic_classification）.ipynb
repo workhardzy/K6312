{
  "nbformat": 4,
  "nbformat_minor": 0,
  "metadata": {
    "colab": {
      "name": "topic classification.ipynb（for topic classification）",
      "provenance": [],
      "collapsed_sections": [],
      "include_colab_link": true
    },
    "kernelspec": {
      "display_name": "Python 3",
      "name": "python3"
    },
    "widgets": {
      "application/vnd.jupyter.widget-state+json": {
        "a1f77687e7aa4e399f38ac25a593bb06": {
          "model_module": "@jupyter-widgets/controls",
          "model_name": "HBoxModel",
          "state": {
            "_view_name": "HBoxView",
            "_dom_classes": [],
            "_model_name": "HBoxModel",
            "_view_module": "@jupyter-widgets/controls",
            "_model_module_version": "1.5.0",
            "_view_count": null,
            "_view_module_version": "1.5.0",
            "box_style": "",
            "layout": "IPY_MODEL_8fdc9808306e4edbad98f3b1e0523941",
            "_model_module": "@jupyter-widgets/controls",
            "children": [
              "IPY_MODEL_e7d857f90eb64e33bd10613dbdeffd79",
              "IPY_MODEL_96c0716c74b14d3997198a550104c248"
            ]
          }
        },
        "8fdc9808306e4edbad98f3b1e0523941": {
          "model_module": "@jupyter-widgets/base",
          "model_name": "LayoutModel",
          "state": {
            "_view_name": "LayoutView",
            "grid_template_rows": null,
            "right": null,
            "justify_content": null,
            "_view_module": "@jupyter-widgets/base",
            "overflow": null,
            "_model_module_version": "1.2.0",
            "_view_count": null,
            "flex_flow": null,
            "width": null,
            "min_width": null,
            "border": null,
            "align_items": null,
            "bottom": null,
            "_model_module": "@jupyter-widgets/base",
            "top": null,
            "grid_column": null,
            "overflow_y": null,
            "overflow_x": null,
            "grid_auto_flow": null,
            "grid_area": null,
            "grid_template_columns": null,
            "flex": null,
            "_model_name": "LayoutModel",
            "justify_items": null,
            "grid_row": null,
            "max_height": null,
            "align_content": null,
            "visibility": null,
            "align_self": null,
            "height": null,
            "min_height": null,
            "padding": null,
            "grid_auto_rows": null,
            "grid_gap": null,
            "max_width": null,
            "order": null,
            "_view_module_version": "1.2.0",
            "grid_template_areas": null,
            "object_position": null,
            "object_fit": null,
            "grid_auto_columns": null,
            "margin": null,
            "display": null,
            "left": null
          }
        },
        "e7d857f90eb64e33bd10613dbdeffd79": {
          "model_module": "@jupyter-widgets/controls",
          "model_name": "FloatProgressModel",
          "state": {
            "_view_name": "ProgressView",
            "style": "IPY_MODEL_301dc7c23b02490bbade6c7e5186113a",
            "_dom_classes": [],
            "description": "100%",
            "_model_name": "FloatProgressModel",
            "bar_style": "success",
            "max": 1200,
            "_view_module": "@jupyter-widgets/controls",
            "_model_module_version": "1.5.0",
            "value": 1200,
            "_view_count": null,
            "_view_module_version": "1.5.0",
            "orientation": "horizontal",
            "min": 0,
            "description_tooltip": null,
            "_model_module": "@jupyter-widgets/controls",
            "layout": "IPY_MODEL_a2d5de1cbc7c41c6998751633d920245"
          }
        },
        "96c0716c74b14d3997198a550104c248": {
          "model_module": "@jupyter-widgets/controls",
          "model_name": "HTMLModel",
          "state": {
            "_view_name": "HTMLView",
            "style": "IPY_MODEL_6cde6f21aab64f94b8c5531a2c4ce245",
            "_dom_classes": [],
            "description": "",
            "_model_name": "HTMLModel",
            "placeholder": "​",
            "_view_module": "@jupyter-widgets/controls",
            "_model_module_version": "1.5.0",
            "value": " 1200/1200 [00:01&lt;00:00, 641.06it/s]",
            "_view_count": null,
            "_view_module_version": "1.5.0",
            "description_tooltip": null,
            "_model_module": "@jupyter-widgets/controls",
            "layout": "IPY_MODEL_601501a8de584335bd9884ececc13aaa"
          }
        },
        "301dc7c23b02490bbade6c7e5186113a": {
          "model_module": "@jupyter-widgets/controls",
          "model_name": "ProgressStyleModel",
          "state": {
            "_view_name": "StyleView",
            "_model_name": "ProgressStyleModel",
            "description_width": "initial",
            "_view_module": "@jupyter-widgets/base",
            "_model_module_version": "1.5.0",
            "_view_count": null,
            "_view_module_version": "1.2.0",
            "bar_color": null,
            "_model_module": "@jupyter-widgets/controls"
          }
        },
        "a2d5de1cbc7c41c6998751633d920245": {
          "model_module": "@jupyter-widgets/base",
          "model_name": "LayoutModel",
          "state": {
            "_view_name": "LayoutView",
            "grid_template_rows": null,
            "right": null,
            "justify_content": null,
            "_view_module": "@jupyter-widgets/base",
            "overflow": null,
            "_model_module_version": "1.2.0",
            "_view_count": null,
            "flex_flow": null,
            "width": null,
            "min_width": null,
            "border": null,
            "align_items": null,
            "bottom": null,
            "_model_module": "@jupyter-widgets/base",
            "top": null,
            "grid_column": null,
            "overflow_y": null,
            "overflow_x": null,
            "grid_auto_flow": null,
            "grid_area": null,
            "grid_template_columns": null,
            "flex": null,
            "_model_name": "LayoutModel",
            "justify_items": null,
            "grid_row": null,
            "max_height": null,
            "align_content": null,
            "visibility": null,
            "align_self": null,
            "height": null,
            "min_height": null,
            "padding": null,
            "grid_auto_rows": null,
            "grid_gap": null,
            "max_width": null,
            "order": null,
            "_view_module_version": "1.2.0",
            "grid_template_areas": null,
            "object_position": null,
            "object_fit": null,
            "grid_auto_columns": null,
            "margin": null,
            "display": null,
            "left": null
          }
        },
        "6cde6f21aab64f94b8c5531a2c4ce245": {
          "model_module": "@jupyter-widgets/controls",
          "model_name": "DescriptionStyleModel",
          "state": {
            "_view_name": "StyleView",
            "_model_name": "DescriptionStyleModel",
            "description_width": "",
            "_view_module": "@jupyter-widgets/base",
            "_model_module_version": "1.5.0",
            "_view_count": null,
            "_view_module_version": "1.2.0",
            "_model_module": "@jupyter-widgets/controls"
          }
        },
        "601501a8de584335bd9884ececc13aaa": {
          "model_module": "@jupyter-widgets/base",
          "model_name": "LayoutModel",
          "state": {
            "_view_name": "LayoutView",
            "grid_template_rows": null,
            "right": null,
            "justify_content": null,
            "_view_module": "@jupyter-widgets/base",
            "overflow": null,
            "_model_module_version": "1.2.0",
            "_view_count": null,
            "flex_flow": null,
            "width": null,
            "min_width": null,
            "border": null,
            "align_items": null,
            "bottom": null,
            "_model_module": "@jupyter-widgets/base",
            "top": null,
            "grid_column": null,
            "overflow_y": null,
            "overflow_x": null,
            "grid_auto_flow": null,
            "grid_area": null,
            "grid_template_columns": null,
            "flex": null,
            "_model_name": "LayoutModel",
            "justify_items": null,
            "grid_row": null,
            "max_height": null,
            "align_content": null,
            "visibility": null,
            "align_self": null,
            "height": null,
            "min_height": null,
            "padding": null,
            "grid_auto_rows": null,
            "grid_gap": null,
            "max_width": null,
            "order": null,
            "_view_module_version": "1.2.0",
            "grid_template_areas": null,
            "object_position": null,
            "object_fit": null,
            "grid_auto_columns": null,
            "margin": null,
            "display": null,
            "left": null
          }
        },
        "220600d7fa0146d99ed72f8f6607070c": {
          "model_module": "@jupyter-widgets/controls",
          "model_name": "HBoxModel",
          "state": {
            "_view_name": "HBoxView",
            "_dom_classes": [],
            "_model_name": "HBoxModel",
            "_view_module": "@jupyter-widgets/controls",
            "_model_module_version": "1.5.0",
            "_view_count": null,
            "_view_module_version": "1.5.0",
            "box_style": "",
            "layout": "IPY_MODEL_c4c58f1b9aae42e694f271dbe70f5832",
            "_model_module": "@jupyter-widgets/controls",
            "children": [
              "IPY_MODEL_beed4a90ffb04cd3a8e26ec6127a9d08",
              "IPY_MODEL_271932be59d24167b4f7cd15a2ef3cb5"
            ]
          }
        },
        "c4c58f1b9aae42e694f271dbe70f5832": {
          "model_module": "@jupyter-widgets/base",
          "model_name": "LayoutModel",
          "state": {
            "_view_name": "LayoutView",
            "grid_template_rows": null,
            "right": null,
            "justify_content": null,
            "_view_module": "@jupyter-widgets/base",
            "overflow": null,
            "_model_module_version": "1.2.0",
            "_view_count": null,
            "flex_flow": null,
            "width": null,
            "min_width": null,
            "border": null,
            "align_items": null,
            "bottom": null,
            "_model_module": "@jupyter-widgets/base",
            "top": null,
            "grid_column": null,
            "overflow_y": null,
            "overflow_x": null,
            "grid_auto_flow": null,
            "grid_area": null,
            "grid_template_columns": null,
            "flex": null,
            "_model_name": "LayoutModel",
            "justify_items": null,
            "grid_row": null,
            "max_height": null,
            "align_content": null,
            "visibility": null,
            "align_self": null,
            "height": null,
            "min_height": null,
            "padding": null,
            "grid_auto_rows": null,
            "grid_gap": null,
            "max_width": null,
            "order": null,
            "_view_module_version": "1.2.0",
            "grid_template_areas": null,
            "object_position": null,
            "object_fit": null,
            "grid_auto_columns": null,
            "margin": null,
            "display": null,
            "left": null
          }
        },
        "beed4a90ffb04cd3a8e26ec6127a9d08": {
          "model_module": "@jupyter-widgets/controls",
          "model_name": "FloatProgressModel",
          "state": {
            "_view_name": "ProgressView",
            "style": "IPY_MODEL_9942e8bf3b384edd90df9774e2ac3bb0",
            "_dom_classes": [],
            "description": "100%",
            "_model_name": "FloatProgressModel",
            "bar_style": "success",
            "max": 1200,
            "_view_module": "@jupyter-widgets/controls",
            "_model_module_version": "1.5.0",
            "value": 1200,
            "_view_count": null,
            "_view_module_version": "1.5.0",
            "orientation": "horizontal",
            "min": 0,
            "description_tooltip": null,
            "_model_module": "@jupyter-widgets/controls",
            "layout": "IPY_MODEL_4123f9df7a0c482fa76982f15dea3759"
          }
        },
        "271932be59d24167b4f7cd15a2ef3cb5": {
          "model_module": "@jupyter-widgets/controls",
          "model_name": "HTMLModel",
          "state": {
            "_view_name": "HTMLView",
            "style": "IPY_MODEL_5abacce3c44a4c44a16a24b42a328f25",
            "_dom_classes": [],
            "description": "",
            "_model_name": "HTMLModel",
            "placeholder": "​",
            "_view_module": "@jupyter-widgets/controls",
            "_model_module_version": "1.5.0",
            "value": " 1200/1200 [00:01&lt;00:00, 997.72it/s]",
            "_view_count": null,
            "_view_module_version": "1.5.0",
            "description_tooltip": null,
            "_model_module": "@jupyter-widgets/controls",
            "layout": "IPY_MODEL_4c2f1955debe4496bc0b899041f9f46c"
          }
        },
        "9942e8bf3b384edd90df9774e2ac3bb0": {
          "model_module": "@jupyter-widgets/controls",
          "model_name": "ProgressStyleModel",
          "state": {
            "_view_name": "StyleView",
            "_model_name": "ProgressStyleModel",
            "description_width": "initial",
            "_view_module": "@jupyter-widgets/base",
            "_model_module_version": "1.5.0",
            "_view_count": null,
            "_view_module_version": "1.2.0",
            "bar_color": null,
            "_model_module": "@jupyter-widgets/controls"
          }
        },
        "4123f9df7a0c482fa76982f15dea3759": {
          "model_module": "@jupyter-widgets/base",
          "model_name": "LayoutModel",
          "state": {
            "_view_name": "LayoutView",
            "grid_template_rows": null,
            "right": null,
            "justify_content": null,
            "_view_module": "@jupyter-widgets/base",
            "overflow": null,
            "_model_module_version": "1.2.0",
            "_view_count": null,
            "flex_flow": null,
            "width": null,
            "min_width": null,
            "border": null,
            "align_items": null,
            "bottom": null,
            "_model_module": "@jupyter-widgets/base",
            "top": null,
            "grid_column": null,
            "overflow_y": null,
            "overflow_x": null,
            "grid_auto_flow": null,
            "grid_area": null,
            "grid_template_columns": null,
            "flex": null,
            "_model_name": "LayoutModel",
            "justify_items": null,
            "grid_row": null,
            "max_height": null,
            "align_content": null,
            "visibility": null,
            "align_self": null,
            "height": null,
            "min_height": null,
            "padding": null,
            "grid_auto_rows": null,
            "grid_gap": null,
            "max_width": null,
            "order": null,
            "_view_module_version": "1.2.0",
            "grid_template_areas": null,
            "object_position": null,
            "object_fit": null,
            "grid_auto_columns": null,
            "margin": null,
            "display": null,
            "left": null
          }
        },
        "5abacce3c44a4c44a16a24b42a328f25": {
          "model_module": "@jupyter-widgets/controls",
          "model_name": "DescriptionStyleModel",
          "state": {
            "_view_name": "StyleView",
            "_model_name": "DescriptionStyleModel",
            "description_width": "",
            "_view_module": "@jupyter-widgets/base",
            "_model_module_version": "1.5.0",
            "_view_count": null,
            "_view_module_version": "1.2.0",
            "_model_module": "@jupyter-widgets/controls"
          }
        },
        "4c2f1955debe4496bc0b899041f9f46c": {
          "model_module": "@jupyter-widgets/base",
          "model_name": "LayoutModel",
          "state": {
            "_view_name": "LayoutView",
            "grid_template_rows": null,
            "right": null,
            "justify_content": null,
            "_view_module": "@jupyter-widgets/base",
            "overflow": null,
            "_model_module_version": "1.2.0",
            "_view_count": null,
            "flex_flow": null,
            "width": null,
            "min_width": null,
            "border": null,
            "align_items": null,
            "bottom": null,
            "_model_module": "@jupyter-widgets/base",
            "top": null,
            "grid_column": null,
            "overflow_y": null,
            "overflow_x": null,
            "grid_auto_flow": null,
            "grid_area": null,
            "grid_template_columns": null,
            "flex": null,
            "_model_name": "LayoutModel",
            "justify_items": null,
            "grid_row": null,
            "max_height": null,
            "align_content": null,
            "visibility": null,
            "align_self": null,
            "height": null,
            "min_height": null,
            "padding": null,
            "grid_auto_rows": null,
            "grid_gap": null,
            "max_width": null,
            "order": null,
            "_view_module_version": "1.2.0",
            "grid_template_areas": null,
            "object_position": null,
            "object_fit": null,
            "grid_auto_columns": null,
            "margin": null,
            "display": null,
            "left": null
          }
        },
        "ef3f1676642c454fbb4eef512d5a048a": {
          "model_module": "@jupyter-widgets/controls",
          "model_name": "HBoxModel",
          "state": {
            "_view_name": "HBoxView",
            "_dom_classes": [],
            "_model_name": "HBoxModel",
            "_view_module": "@jupyter-widgets/controls",
            "_model_module_version": "1.5.0",
            "_view_count": null,
            "_view_module_version": "1.5.0",
            "box_style": "",
            "layout": "IPY_MODEL_d9c52d766be04f1abe6e6546e65d34ff",
            "_model_module": "@jupyter-widgets/controls",
            "children": [
              "IPY_MODEL_782cbf910c344c3ea2fe8b271ec02d69",
              "IPY_MODEL_a0d25ed99b5b45b8b3e9271de80fdd28"
            ]
          }
        },
        "d9c52d766be04f1abe6e6546e65d34ff": {
          "model_module": "@jupyter-widgets/base",
          "model_name": "LayoutModel",
          "state": {
            "_view_name": "LayoutView",
            "grid_template_rows": null,
            "right": null,
            "justify_content": null,
            "_view_module": "@jupyter-widgets/base",
            "overflow": null,
            "_model_module_version": "1.2.0",
            "_view_count": null,
            "flex_flow": null,
            "width": null,
            "min_width": null,
            "border": null,
            "align_items": null,
            "bottom": null,
            "_model_module": "@jupyter-widgets/base",
            "top": null,
            "grid_column": null,
            "overflow_y": null,
            "overflow_x": null,
            "grid_auto_flow": null,
            "grid_area": null,
            "grid_template_columns": null,
            "flex": null,
            "_model_name": "LayoutModel",
            "justify_items": null,
            "grid_row": null,
            "max_height": null,
            "align_content": null,
            "visibility": null,
            "align_self": null,
            "height": null,
            "min_height": null,
            "padding": null,
            "grid_auto_rows": null,
            "grid_gap": null,
            "max_width": null,
            "order": null,
            "_view_module_version": "1.2.0",
            "grid_template_areas": null,
            "object_position": null,
            "object_fit": null,
            "grid_auto_columns": null,
            "margin": null,
            "display": null,
            "left": null
          }
        },
        "782cbf910c344c3ea2fe8b271ec02d69": {
          "model_module": "@jupyter-widgets/controls",
          "model_name": "FloatProgressModel",
          "state": {
            "_view_name": "ProgressView",
            "style": "IPY_MODEL_89b82e95c62543adae432e6042038a4a",
            "_dom_classes": [],
            "description": "100%",
            "_model_name": "FloatProgressModel",
            "bar_style": "success",
            "max": 290479,
            "_view_module": "@jupyter-widgets/controls",
            "_model_module_version": "1.5.0",
            "value": 290479,
            "_view_count": null,
            "_view_module_version": "1.5.0",
            "orientation": "horizontal",
            "min": 0,
            "description_tooltip": null,
            "_model_module": "@jupyter-widgets/controls",
            "layout": "IPY_MODEL_086d605c53254599b51ac782f75bdf28"
          }
        },
        "a0d25ed99b5b45b8b3e9271de80fdd28": {
          "model_module": "@jupyter-widgets/controls",
          "model_name": "HTMLModel",
          "state": {
            "_view_name": "HTMLView",
            "style": "IPY_MODEL_501efee51d95409f89852f4b6b76c3c2",
            "_dom_classes": [],
            "description": "",
            "_model_name": "HTMLModel",
            "placeholder": "​",
            "_view_module": "@jupyter-widgets/controls",
            "_model_module_version": "1.5.0",
            "value": " 290479/290479 [10:29&lt;00:00, 461.68it/s]",
            "_view_count": null,
            "_view_module_version": "1.5.0",
            "description_tooltip": null,
            "_model_module": "@jupyter-widgets/controls",
            "layout": "IPY_MODEL_fee138ac9a814db995552073722dca9b"
          }
        },
        "89b82e95c62543adae432e6042038a4a": {
          "model_module": "@jupyter-widgets/controls",
          "model_name": "ProgressStyleModel",
          "state": {
            "_view_name": "StyleView",
            "_model_name": "ProgressStyleModel",
            "description_width": "initial",
            "_view_module": "@jupyter-widgets/base",
            "_model_module_version": "1.5.0",
            "_view_count": null,
            "_view_module_version": "1.2.0",
            "bar_color": null,
            "_model_module": "@jupyter-widgets/controls"
          }
        },
        "086d605c53254599b51ac782f75bdf28": {
          "model_module": "@jupyter-widgets/base",
          "model_name": "LayoutModel",
          "state": {
            "_view_name": "LayoutView",
            "grid_template_rows": null,
            "right": null,
            "justify_content": null,
            "_view_module": "@jupyter-widgets/base",
            "overflow": null,
            "_model_module_version": "1.2.0",
            "_view_count": null,
            "flex_flow": null,
            "width": null,
            "min_width": null,
            "border": null,
            "align_items": null,
            "bottom": null,
            "_model_module": "@jupyter-widgets/base",
            "top": null,
            "grid_column": null,
            "overflow_y": null,
            "overflow_x": null,
            "grid_auto_flow": null,
            "grid_area": null,
            "grid_template_columns": null,
            "flex": null,
            "_model_name": "LayoutModel",
            "justify_items": null,
            "grid_row": null,
            "max_height": null,
            "align_content": null,
            "visibility": null,
            "align_self": null,
            "height": null,
            "min_height": null,
            "padding": null,
            "grid_auto_rows": null,
            "grid_gap": null,
            "max_width": null,
            "order": null,
            "_view_module_version": "1.2.0",
            "grid_template_areas": null,
            "object_position": null,
            "object_fit": null,
            "grid_auto_columns": null,
            "margin": null,
            "display": null,
            "left": null
          }
        },
        "501efee51d95409f89852f4b6b76c3c2": {
          "model_module": "@jupyter-widgets/controls",
          "model_name": "DescriptionStyleModel",
          "state": {
            "_view_name": "StyleView",
            "_model_name": "DescriptionStyleModel",
            "description_width": "",
            "_view_module": "@jupyter-widgets/base",
            "_model_module_version": "1.5.0",
            "_view_count": null,
            "_view_module_version": "1.2.0",
            "_model_module": "@jupyter-widgets/controls"
          }
        },
        "fee138ac9a814db995552073722dca9b": {
          "model_module": "@jupyter-widgets/base",
          "model_name": "LayoutModel",
          "state": {
            "_view_name": "LayoutView",
            "grid_template_rows": null,
            "right": null,
            "justify_content": null,
            "_view_module": "@jupyter-widgets/base",
            "overflow": null,
            "_model_module_version": "1.2.0",
            "_view_count": null,
            "flex_flow": null,
            "width": null,
            "min_width": null,
            "border": null,
            "align_items": null,
            "bottom": null,
            "_model_module": "@jupyter-widgets/base",
            "top": null,
            "grid_column": null,
            "overflow_y": null,
            "overflow_x": null,
            "grid_auto_flow": null,
            "grid_area": null,
            "grid_template_columns": null,
            "flex": null,
            "_model_name": "LayoutModel",
            "justify_items": null,
            "grid_row": null,
            "max_height": null,
            "align_content": null,
            "visibility": null,
            "align_self": null,
            "height": null,
            "min_height": null,
            "padding": null,
            "grid_auto_rows": null,
            "grid_gap": null,
            "max_width": null,
            "order": null,
            "_view_module_version": "1.2.0",
            "grid_template_areas": null,
            "object_position": null,
            "object_fit": null,
            "grid_auto_columns": null,
            "margin": null,
            "display": null,
            "left": null
          }
        },
        "24c25086b5bb4b0d937532bef10feff9": {
          "model_module": "@jupyter-widgets/controls",
          "model_name": "HBoxModel",
          "state": {
            "_view_name": "HBoxView",
            "_dom_classes": [],
            "_model_name": "HBoxModel",
            "_view_module": "@jupyter-widgets/controls",
            "_model_module_version": "1.5.0",
            "_view_count": null,
            "_view_module_version": "1.5.0",
            "box_style": "",
            "layout": "IPY_MODEL_66bb6bbcc394425dbd0dbd6e7195d0e8",
            "_model_module": "@jupyter-widgets/controls",
            "children": [
              "IPY_MODEL_5b33d2176cea48a189351f734d8a3b61",
              "IPY_MODEL_79cecec99fca41fc924aa6f447e6a57b"
            ]
          }
        },
        "66bb6bbcc394425dbd0dbd6e7195d0e8": {
          "model_module": "@jupyter-widgets/base",
          "model_name": "LayoutModel",
          "state": {
            "_view_name": "LayoutView",
            "grid_template_rows": null,
            "right": null,
            "justify_content": null,
            "_view_module": "@jupyter-widgets/base",
            "overflow": null,
            "_model_module_version": "1.2.0",
            "_view_count": null,
            "flex_flow": null,
            "width": null,
            "min_width": null,
            "border": null,
            "align_items": null,
            "bottom": null,
            "_model_module": "@jupyter-widgets/base",
            "top": null,
            "grid_column": null,
            "overflow_y": null,
            "overflow_x": null,
            "grid_auto_flow": null,
            "grid_area": null,
            "grid_template_columns": null,
            "flex": null,
            "_model_name": "LayoutModel",
            "justify_items": null,
            "grid_row": null,
            "max_height": null,
            "align_content": null,
            "visibility": null,
            "align_self": null,
            "height": null,
            "min_height": null,
            "padding": null,
            "grid_auto_rows": null,
            "grid_gap": null,
            "max_width": null,
            "order": null,
            "_view_module_version": "1.2.0",
            "grid_template_areas": null,
            "object_position": null,
            "object_fit": null,
            "grid_auto_columns": null,
            "margin": null,
            "display": null,
            "left": null
          }
        },
        "5b33d2176cea48a189351f734d8a3b61": {
          "model_module": "@jupyter-widgets/controls",
          "model_name": "FloatProgressModel",
          "state": {
            "_view_name": "ProgressView",
            "style": "IPY_MODEL_024ca530ba8e4beca329dc796df5feb9",
            "_dom_classes": [],
            "description": "100%",
            "_model_name": "FloatProgressModel",
            "bar_style": "success",
            "max": 290479,
            "_view_module": "@jupyter-widgets/controls",
            "_model_module_version": "1.5.0",
            "value": 290479,
            "_view_count": null,
            "_view_module_version": "1.5.0",
            "orientation": "horizontal",
            "min": 0,
            "description_tooltip": null,
            "_model_module": "@jupyter-widgets/controls",
            "layout": "IPY_MODEL_e079ca2ca8504f268898af6d952c689a"
          }
        },
        "79cecec99fca41fc924aa6f447e6a57b": {
          "model_module": "@jupyter-widgets/controls",
          "model_name": "HTMLModel",
          "state": {
            "_view_name": "HTMLView",
            "style": "IPY_MODEL_f63d1d3082a144739658e4f00285dbd2",
            "_dom_classes": [],
            "description": "",
            "_model_name": "HTMLModel",
            "placeholder": "​",
            "_view_module": "@jupyter-widgets/controls",
            "_model_module_version": "1.5.0",
            "value": " 290479/290479 [08:27&lt;00:00, 572.04it/s]",
            "_view_count": null,
            "_view_module_version": "1.5.0",
            "description_tooltip": null,
            "_model_module": "@jupyter-widgets/controls",
            "layout": "IPY_MODEL_3326d3b4dc5c46aea40a6b1b4003c259"
          }
        },
        "024ca530ba8e4beca329dc796df5feb9": {
          "model_module": "@jupyter-widgets/controls",
          "model_name": "ProgressStyleModel",
          "state": {
            "_view_name": "StyleView",
            "_model_name": "ProgressStyleModel",
            "description_width": "initial",
            "_view_module": "@jupyter-widgets/base",
            "_model_module_version": "1.5.0",
            "_view_count": null,
            "_view_module_version": "1.2.0",
            "bar_color": null,
            "_model_module": "@jupyter-widgets/controls"
          }
        },
        "e079ca2ca8504f268898af6d952c689a": {
          "model_module": "@jupyter-widgets/base",
          "model_name": "LayoutModel",
          "state": {
            "_view_name": "LayoutView",
            "grid_template_rows": null,
            "right": null,
            "justify_content": null,
            "_view_module": "@jupyter-widgets/base",
            "overflow": null,
            "_model_module_version": "1.2.0",
            "_view_count": null,
            "flex_flow": null,
            "width": null,
            "min_width": null,
            "border": null,
            "align_items": null,
            "bottom": null,
            "_model_module": "@jupyter-widgets/base",
            "top": null,
            "grid_column": null,
            "overflow_y": null,
            "overflow_x": null,
            "grid_auto_flow": null,
            "grid_area": null,
            "grid_template_columns": null,
            "flex": null,
            "_model_name": "LayoutModel",
            "justify_items": null,
            "grid_row": null,
            "max_height": null,
            "align_content": null,
            "visibility": null,
            "align_self": null,
            "height": null,
            "min_height": null,
            "padding": null,
            "grid_auto_rows": null,
            "grid_gap": null,
            "max_width": null,
            "order": null,
            "_view_module_version": "1.2.0",
            "grid_template_areas": null,
            "object_position": null,
            "object_fit": null,
            "grid_auto_columns": null,
            "margin": null,
            "display": null,
            "left": null
          }
        },
        "f63d1d3082a144739658e4f00285dbd2": {
          "model_module": "@jupyter-widgets/controls",
          "model_name": "DescriptionStyleModel",
          "state": {
            "_view_name": "StyleView",
            "_model_name": "DescriptionStyleModel",
            "description_width": "",
            "_view_module": "@jupyter-widgets/base",
            "_model_module_version": "1.5.0",
            "_view_count": null,
            "_view_module_version": "1.2.0",
            "_model_module": "@jupyter-widgets/controls"
          }
        },
        "3326d3b4dc5c46aea40a6b1b4003c259": {
          "model_module": "@jupyter-widgets/base",
          "model_name": "LayoutModel",
          "state": {
            "_view_name": "LayoutView",
            "grid_template_rows": null,
            "right": null,
            "justify_content": null,
            "_view_module": "@jupyter-widgets/base",
            "overflow": null,
            "_model_module_version": "1.2.0",
            "_view_count": null,
            "flex_flow": null,
            "width": null,
            "min_width": null,
            "border": null,
            "align_items": null,
            "bottom": null,
            "_model_module": "@jupyter-widgets/base",
            "top": null,
            "grid_column": null,
            "overflow_y": null,
            "overflow_x": null,
            "grid_auto_flow": null,
            "grid_area": null,
            "grid_template_columns": null,
            "flex": null,
            "_model_name": "LayoutModel",
            "justify_items": null,
            "grid_row": null,
            "max_height": null,
            "align_content": null,
            "visibility": null,
            "align_self": null,
            "height": null,
            "min_height": null,
            "padding": null,
            "grid_auto_rows": null,
            "grid_gap": null,
            "max_width": null,
            "order": null,
            "_view_module_version": "1.2.0",
            "grid_template_areas": null,
            "object_position": null,
            "object_fit": null,
            "grid_auto_columns": null,
            "margin": null,
            "display": null,
            "left": null
          }
        }
      }
    }
  },
  "cells": [
    {
      "cell_type": "markdown",
      "metadata": {
        "id": "view-in-github",
        "colab_type": "text"
      },
      "source": [
        "<a href=\"https://colab.research.google.com/github/workhardzy/K6312/blob/main/topic_classification_ipynb%EF%BC%88for_topic_classification%EF%BC%89.ipynb\" target=\"_parent\"><img src=\"https://colab.research.google.com/assets/colab-badge.svg\" alt=\"Open In Colab\"/></a>"
      ]
    },
    {
      "cell_type": "code",
      "metadata": {
        "id": "9XqOiEWNWT1d"
      },
      "source": [
        "#https://github.com/susanli2016/Machine-Learning-with-Python/blob/master/Consumer_complaints.ipynb"
      ],
      "execution_count": null,
      "outputs": []
    },
    {
      "cell_type": "markdown",
      "metadata": {
        "id": "Ugjqcj5zYeTM"
      },
      "source": [
        "Exploring the data"
      ]
    },
    {
      "cell_type": "code",
      "metadata": {
        "colab": {
          "base_uri": "https://localhost:8080/"
        },
        "id": "4tqhYa2TSz5Q",
        "outputId": "9809545d-8d68-4d04-ee14-d798e7083d58"
      },
      "source": [
        "from google.colab import drive\n",
        "drive.mount(\"/content/gdrive\")"
      ],
      "execution_count": null,
      "outputs": [
        {
          "output_type": "stream",
          "text": [
            "Drive already mounted at /content/gdrive; to attempt to forcibly remount, call drive.mount(\"/content/gdrive\", force_remount=True).\n"
          ],
          "name": "stdout"
        }
      ]
    },
    {
      "cell_type": "code",
      "metadata": {
        "id": "ToppC4wKZa38"
      },
      "source": [
        "from sklearn.metrics import confusion_matrix, classification_report\n",
        "\n",
        "import pandas as pd \n",
        "import re \n",
        "import nltk \n",
        "from nltk.corpus import stopwords \n",
        "from nltk.stem.porter import PorterStemmer \n",
        "from sklearn.feature_extraction.text import CountVectorizer \n",
        "from sklearn.feature_extraction.text import TfidfVectorizer\n",
        "\n",
        "from sklearn.model_selection import train_test_split\n",
        "from sklearn.feature_extraction.text import CountVectorizer\n",
        "from sklearn.feature_extraction.text import TfidfTransformer\n",
        "from sklearn.naive_bayes import MultinomialNB\n"
      ],
      "execution_count": null,
      "outputs": []
    },
    {
      "cell_type": "code",
      "metadata": {
        "colab": {
          "base_uri": "https://localhost:8080/",
          "height": 1000
        },
        "id": "fqmAlIL3TJlF",
        "outputId": "86526e43-1d96-4ef5-b012-d68e845c841a"
      },
      "source": [
        "path = '/content/gdrive/MyDrive/group/topic_classification.xlsx' #this is from our topic models\n",
        "df = pd.read_excel(path)\n",
        "df"
      ],
      "execution_count": null,
      "outputs": [
        {
          "output_type": "execute_result",
          "data": {
            "text/html": [
              "<div>\n",
              "<style scoped>\n",
              "    .dataframe tbody tr th:only-of-type {\n",
              "        vertical-align: middle;\n",
              "    }\n",
              "\n",
              "    .dataframe tbody tr th {\n",
              "        vertical-align: top;\n",
              "    }\n",
              "\n",
              "    .dataframe thead th {\n",
              "        text-align: right;\n",
              "    }\n",
              "</style>\n",
              "<table border=\"1\" class=\"dataframe\">\n",
              "  <thead>\n",
              "    <tr style=\"text-align: right;\">\n",
              "      <th></th>\n",
              "      <th>month</th>\n",
              "      <th>topic number</th>\n",
              "      <th>topic name</th>\n",
              "      <th>title</th>\n",
              "      <th>date</th>\n",
              "      <th>topic_area</th>\n",
              "      <th>Unnamed: 6</th>\n",
              "      <th>Unnamed: 7</th>\n",
              "      <th>Unnamed: 8</th>\n",
              "      <th>Unnamed: 9</th>\n",
              "      <th>Unnamed: 10</th>\n",
              "      <th>Unnamed: 11</th>\n",
              "      <th>Unnamed: 12</th>\n",
              "      <th>Unnamed: 13</th>\n",
              "      <th>Unnamed: 14</th>\n",
              "      <th>Unnamed: 15</th>\n",
              "      <th>Unnamed: 16</th>\n",
              "      <th>Unnamed: 17</th>\n",
              "      <th>Unnamed: 18</th>\n",
              "      <th>Unnamed: 19</th>\n",
              "      <th>Unnamed: 20</th>\n",
              "    </tr>\n",
              "  </thead>\n",
              "  <tbody>\n",
              "    <tr>\n",
              "      <th>0</th>\n",
              "      <td>January</td>\n",
              "      <td>1</td>\n",
              "      <td>china coronavirus/virus</td>\n",
              "      <td>China coronavirus outbreak: First case reporte...</td>\n",
              "      <td>2020-01-15</td>\n",
              "      <td>general</td>\n",
              "      <td>NaN</td>\n",
              "      <td>NaN</td>\n",
              "      <td>NaN</td>\n",
              "      <td>NaN</td>\n",
              "      <td>NaN</td>\n",
              "      <td>NaN</td>\n",
              "      <td>NaN</td>\n",
              "      <td>NaN</td>\n",
              "      <td>NaN</td>\n",
              "      <td>NaN</td>\n",
              "      <td>NaT</td>\n",
              "      <td>NaN</td>\n",
              "      <td>NaN</td>\n",
              "      <td>NaT</td>\n",
              "      <td>NaN</td>\n",
              "    </tr>\n",
              "    <tr>\n",
              "      <th>1</th>\n",
              "      <td>January</td>\n",
              "      <td>1</td>\n",
              "      <td>china coronavirus/virus</td>\n",
              "      <td>Japan confirms first case of new China coronav...</td>\n",
              "      <td>2020-01-16</td>\n",
              "      <td>general</td>\n",
              "      <td>NaN</td>\n",
              "      <td>NaN</td>\n",
              "      <td>NaN</td>\n",
              "      <td>NaN</td>\n",
              "      <td>NaN</td>\n",
              "      <td>NaN</td>\n",
              "      <td>NaN</td>\n",
              "      <td>NaN</td>\n",
              "      <td>NaN</td>\n",
              "      <td>NaN</td>\n",
              "      <td>NaT</td>\n",
              "      <td>NaN</td>\n",
              "      <td>NaN</td>\n",
              "      <td>NaT</td>\n",
              "      <td>NaN</td>\n",
              "    </tr>\n",
              "    <tr>\n",
              "      <th>2</th>\n",
              "      <td>January</td>\n",
              "      <td>1</td>\n",
              "      <td>china coronavirus/virus</td>\n",
              "      <td>China virus: US begins screening travellers af...</td>\n",
              "      <td>2020-01-17</td>\n",
              "      <td>general</td>\n",
              "      <td>NaN</td>\n",
              "      <td>NaN</td>\n",
              "      <td>NaN</td>\n",
              "      <td>NaN</td>\n",
              "      <td>NaN</td>\n",
              "      <td>NaN</td>\n",
              "      <td>NaN</td>\n",
              "      <td>NaN</td>\n",
              "      <td>NaN</td>\n",
              "      <td>NaN</td>\n",
              "      <td>NaT</td>\n",
              "      <td>NaN</td>\n",
              "      <td>NaN</td>\n",
              "      <td>NaT</td>\n",
              "      <td>NaN</td>\n",
              "    </tr>\n",
              "    <tr>\n",
              "      <th>3</th>\n",
              "      <td>January</td>\n",
              "      <td>1</td>\n",
              "      <td>china coronavirus/virus</td>\n",
              "      <td>Southeast Asia stocks: Singapore falls on Chin...</td>\n",
              "      <td>2020-01-20</td>\n",
              "      <td>business</td>\n",
              "      <td>NaN</td>\n",
              "      <td>NaN</td>\n",
              "      <td>NaN</td>\n",
              "      <td>NaN</td>\n",
              "      <td>NaN</td>\n",
              "      <td>NaN</td>\n",
              "      <td>NaN</td>\n",
              "      <td>NaN</td>\n",
              "      <td>NaN</td>\n",
              "      <td>NaN</td>\n",
              "      <td>NaT</td>\n",
              "      <td>NaN</td>\n",
              "      <td>NaN</td>\n",
              "      <td>NaT</td>\n",
              "      <td>NaN</td>\n",
              "    </tr>\n",
              "    <tr>\n",
              "      <th>4</th>\n",
              "      <td>January</td>\n",
              "      <td>1</td>\n",
              "      <td>china coronavirus/virus</td>\n",
              "      <td>China coronavirus symptoms: Pneumonia-like sym...</td>\n",
              "      <td>2020-01-20</td>\n",
              "      <td>general</td>\n",
              "      <td>NaN</td>\n",
              "      <td>NaN</td>\n",
              "      <td>NaN</td>\n",
              "      <td>NaN</td>\n",
              "      <td>NaN</td>\n",
              "      <td>NaN</td>\n",
              "      <td>NaN</td>\n",
              "      <td>NaN</td>\n",
              "      <td>NaN</td>\n",
              "      <td>NaN</td>\n",
              "      <td>NaT</td>\n",
              "      <td>NaN</td>\n",
              "      <td>NaN</td>\n",
              "      <td>NaT</td>\n",
              "      <td>NaN</td>\n",
              "    </tr>\n",
              "    <tr>\n",
              "      <th>...</th>\n",
              "      <td>...</td>\n",
              "      <td>...</td>\n",
              "      <td>...</td>\n",
              "      <td>...</td>\n",
              "      <td>...</td>\n",
              "      <td>...</td>\n",
              "      <td>...</td>\n",
              "      <td>...</td>\n",
              "      <td>...</td>\n",
              "      <td>...</td>\n",
              "      <td>...</td>\n",
              "      <td>...</td>\n",
              "      <td>...</td>\n",
              "      <td>...</td>\n",
              "      <td>...</td>\n",
              "      <td>...</td>\n",
              "      <td>...</td>\n",
              "      <td>...</td>\n",
              "      <td>...</td>\n",
              "      <td>...</td>\n",
              "      <td>...</td>\n",
              "    </tr>\n",
              "    <tr>\n",
              "      <th>2395</th>\n",
              "      <td>April</td>\n",
              "      <td>24</td>\n",
              "      <td>oil price</td>\n",
              "      <td>Oil price crisis: US crude PLUMMETS to lowest ...</td>\n",
              "      <td>2020-04-20</td>\n",
              "      <td>general</td>\n",
              "      <td>NaN</td>\n",
              "      <td>NaN</td>\n",
              "      <td>NaN</td>\n",
              "      <td>NaN</td>\n",
              "      <td>NaN</td>\n",
              "      <td>NaN</td>\n",
              "      <td>NaN</td>\n",
              "      <td>NaN</td>\n",
              "      <td>NaN</td>\n",
              "      <td>NaN</td>\n",
              "      <td>NaT</td>\n",
              "      <td>NaN</td>\n",
              "      <td>NaN</td>\n",
              "      <td>NaT</td>\n",
              "      <td>NaN</td>\n",
              "    </tr>\n",
              "    <tr>\n",
              "      <th>2396</th>\n",
              "      <td>April</td>\n",
              "      <td>24</td>\n",
              "      <td>oil price</td>\n",
              "      <td>Global oil prices bounce back after hitting 21...</td>\n",
              "      <td>2020-04-21</td>\n",
              "      <td>general</td>\n",
              "      <td>NaN</td>\n",
              "      <td>NaN</td>\n",
              "      <td>NaN</td>\n",
              "      <td>NaN</td>\n",
              "      <td>NaN</td>\n",
              "      <td>NaN</td>\n",
              "      <td>NaN</td>\n",
              "      <td>NaN</td>\n",
              "      <td>NaN</td>\n",
              "      <td>NaN</td>\n",
              "      <td>NaT</td>\n",
              "      <td>NaN</td>\n",
              "      <td>NaN</td>\n",
              "      <td>NaT</td>\n",
              "      <td>NaN</td>\n",
              "    </tr>\n",
              "    <tr>\n",
              "      <th>2397</th>\n",
              "      <td>April</td>\n",
              "      <td>24</td>\n",
              "      <td>oil price</td>\n",
              "      <td>Global oil prices hit 21-year low but stock ma...</td>\n",
              "      <td>2020-04-21</td>\n",
              "      <td>general</td>\n",
              "      <td>NaN</td>\n",
              "      <td>NaN</td>\n",
              "      <td>NaN</td>\n",
              "      <td>NaN</td>\n",
              "      <td>NaN</td>\n",
              "      <td>NaN</td>\n",
              "      <td>NaN</td>\n",
              "      <td>NaN</td>\n",
              "      <td>NaN</td>\n",
              "      <td>NaN</td>\n",
              "      <td>NaT</td>\n",
              "      <td>NaN</td>\n",
              "      <td>NaN</td>\n",
              "      <td>NaT</td>\n",
              "      <td>NaN</td>\n",
              "    </tr>\n",
              "    <tr>\n",
              "      <th>2398</th>\n",
              "      <td>April</td>\n",
              "      <td>24</td>\n",
              "      <td>oil price</td>\n",
              "      <td>Oil prices are still falling. Asian stocks are...</td>\n",
              "      <td>2020-04-21</td>\n",
              "      <td>general</td>\n",
              "      <td>NaN</td>\n",
              "      <td>NaN</td>\n",
              "      <td>NaN</td>\n",
              "      <td>NaN</td>\n",
              "      <td>NaN</td>\n",
              "      <td>NaN</td>\n",
              "      <td>NaN</td>\n",
              "      <td>NaN</td>\n",
              "      <td>NaN</td>\n",
              "      <td>NaN</td>\n",
              "      <td>NaT</td>\n",
              "      <td>NaN</td>\n",
              "      <td>NaN</td>\n",
              "      <td>NaT</td>\n",
              "      <td>NaN</td>\n",
              "    </tr>\n",
              "    <tr>\n",
              "      <th>2399</th>\n",
              "      <td>April</td>\n",
              "      <td>24</td>\n",
              "      <td>oil price</td>\n",
              "      <td>Oil prices turn positive but the market remain...</td>\n",
              "      <td>2020-04-21</td>\n",
              "      <td>general</td>\n",
              "      <td>NaN</td>\n",
              "      <td>NaN</td>\n",
              "      <td>NaN</td>\n",
              "      <td>NaN</td>\n",
              "      <td>NaN</td>\n",
              "      <td>NaN</td>\n",
              "      <td>NaN</td>\n",
              "      <td>NaN</td>\n",
              "      <td>NaN</td>\n",
              "      <td>NaN</td>\n",
              "      <td>NaT</td>\n",
              "      <td>NaN</td>\n",
              "      <td>NaN</td>\n",
              "      <td>NaT</td>\n",
              "      <td>NaN</td>\n",
              "    </tr>\n",
              "  </tbody>\n",
              "</table>\n",
              "<p>2400 rows × 21 columns</p>\n",
              "</div>"
            ],
            "text/plain": [
              "        month  topic number  ... Unnamed: 19 Unnamed: 20\n",
              "0     January             1  ...         NaT         NaN\n",
              "1     January             1  ...         NaT         NaN\n",
              "2     January             1  ...         NaT         NaN\n",
              "3     January             1  ...         NaT         NaN\n",
              "4     January             1  ...         NaT         NaN\n",
              "...       ...           ...  ...         ...         ...\n",
              "2395    April            24  ...         NaT         NaN\n",
              "2396    April            24  ...         NaT         NaN\n",
              "2397    April            24  ...         NaT         NaN\n",
              "2398    April            24  ...         NaT         NaN\n",
              "2399    April            24  ...         NaT         NaN\n",
              "\n",
              "[2400 rows x 21 columns]"
            ]
          },
          "metadata": {
            "tags": []
          },
          "execution_count": 23
        }
      ]
    },
    {
      "cell_type": "code",
      "metadata": {
        "colab": {
          "base_uri": "https://localhost:8080/",
          "height": 407
        },
        "id": "u_VRl8d_Uz3M",
        "outputId": "aed7abeb-eca9-4835-aebc-f1a23f7d6391"
      },
      "source": [
        "tdf = df[['topic number','title']]\n",
        "tdf"
      ],
      "execution_count": null,
      "outputs": [
        {
          "output_type": "execute_result",
          "data": {
            "text/html": [
              "<div>\n",
              "<style scoped>\n",
              "    .dataframe tbody tr th:only-of-type {\n",
              "        vertical-align: middle;\n",
              "    }\n",
              "\n",
              "    .dataframe tbody tr th {\n",
              "        vertical-align: top;\n",
              "    }\n",
              "\n",
              "    .dataframe thead th {\n",
              "        text-align: right;\n",
              "    }\n",
              "</style>\n",
              "<table border=\"1\" class=\"dataframe\">\n",
              "  <thead>\n",
              "    <tr style=\"text-align: right;\">\n",
              "      <th></th>\n",
              "      <th>topic number</th>\n",
              "      <th>title</th>\n",
              "    </tr>\n",
              "  </thead>\n",
              "  <tbody>\n",
              "    <tr>\n",
              "      <th>0</th>\n",
              "      <td>1</td>\n",
              "      <td>China coronavirus outbreak: First case reporte...</td>\n",
              "    </tr>\n",
              "    <tr>\n",
              "      <th>1</th>\n",
              "      <td>1</td>\n",
              "      <td>Japan confirms first case of new China coronav...</td>\n",
              "    </tr>\n",
              "    <tr>\n",
              "      <th>2</th>\n",
              "      <td>1</td>\n",
              "      <td>China virus: US begins screening travellers af...</td>\n",
              "    </tr>\n",
              "    <tr>\n",
              "      <th>3</th>\n",
              "      <td>1</td>\n",
              "      <td>Southeast Asia stocks: Singapore falls on Chin...</td>\n",
              "    </tr>\n",
              "    <tr>\n",
              "      <th>4</th>\n",
              "      <td>1</td>\n",
              "      <td>China coronavirus symptoms: Pneumonia-like sym...</td>\n",
              "    </tr>\n",
              "    <tr>\n",
              "      <th>...</th>\n",
              "      <td>...</td>\n",
              "      <td>...</td>\n",
              "    </tr>\n",
              "    <tr>\n",
              "      <th>2395</th>\n",
              "      <td>24</td>\n",
              "      <td>Oil price crisis: US crude PLUMMETS to lowest ...</td>\n",
              "    </tr>\n",
              "    <tr>\n",
              "      <th>2396</th>\n",
              "      <td>24</td>\n",
              "      <td>Global oil prices bounce back after hitting 21...</td>\n",
              "    </tr>\n",
              "    <tr>\n",
              "      <th>2397</th>\n",
              "      <td>24</td>\n",
              "      <td>Global oil prices hit 21-year low but stock ma...</td>\n",
              "    </tr>\n",
              "    <tr>\n",
              "      <th>2398</th>\n",
              "      <td>24</td>\n",
              "      <td>Oil prices are still falling. Asian stocks are...</td>\n",
              "    </tr>\n",
              "    <tr>\n",
              "      <th>2399</th>\n",
              "      <td>24</td>\n",
              "      <td>Oil prices turn positive but the market remain...</td>\n",
              "    </tr>\n",
              "  </tbody>\n",
              "</table>\n",
              "<p>2400 rows × 2 columns</p>\n",
              "</div>"
            ],
            "text/plain": [
              "      topic number                                              title\n",
              "0                1  China coronavirus outbreak: First case reporte...\n",
              "1                1  Japan confirms first case of new China coronav...\n",
              "2                1  China virus: US begins screening travellers af...\n",
              "3                1  Southeast Asia stocks: Singapore falls on Chin...\n",
              "4                1  China coronavirus symptoms: Pneumonia-like sym...\n",
              "...            ...                                                ...\n",
              "2395            24  Oil price crisis: US crude PLUMMETS to lowest ...\n",
              "2396            24  Global oil prices bounce back after hitting 21...\n",
              "2397            24  Global oil prices hit 21-year low but stock ma...\n",
              "2398            24  Oil prices are still falling. Asian stocks are...\n",
              "2399            24  Oil prices turn positive but the market remain...\n",
              "\n",
              "[2400 rows x 2 columns]"
            ]
          },
          "metadata": {
            "tags": []
          },
          "execution_count": 24
        }
      ]
    },
    {
      "cell_type": "code",
      "metadata": {
        "id": "yCCROTglVAAn"
      },
      "source": [
        "tdf.columns = ['label','title']"
      ],
      "execution_count": null,
      "outputs": []
    },
    {
      "cell_type": "code",
      "metadata": {
        "colab": {
          "base_uri": "https://localhost:8080/",
          "height": 392
        },
        "id": "nMrmTZkcWh-5",
        "outputId": "59faab69-7389-47a5-a9f4-b0dbc479b974"
      },
      "source": [
        "import matplotlib.pyplot as plt\n",
        "fig = plt.figure(figsize=(8,6))\n",
        "df.groupby('topic number').count().plot.bar(ylim=0) #change this\n",
        "plt.show()"
      ],
      "execution_count": null,
      "outputs": [
        {
          "output_type": "display_data",
          "data": {
            "text/plain": [
              "<Figure size 576x432 with 0 Axes>"
            ]
          },
          "metadata": {
            "tags": []
          }
        },
        {
          "output_type": "display_data",
          "data": {
            "image/png": "[encoded data removed]",
            "text/plain": [
              "<Figure size 432x288 with 1 Axes>"
            ]
          },
          "metadata": {
            "tags": [],
            "needs_background": "light"
          }
        }
      ]
    },
    {
      "cell_type": "markdown",
      "metadata": {
        "id": "hxaDb4NuYaXQ"
      },
      "source": [
        "text preprocessing"
      ]
    },
    {
      "cell_type": "code",
      "metadata": {
        "colab": {
          "base_uri": "https://localhost:8080/"
        },
        "id": "CFes7H7-T-o6",
        "outputId": "e94456ca-7e6e-4b21-8ae7-e6576d86bd89"
      },
      "source": [
        "from bs4 import BeautifulSoup\n",
        "import nltk\n",
        "from nltk.util import ngrams\n",
        "from nltk.stem import WordNetLemmatizer\n",
        "from nltk.corpus import stopwords, wordnet\n",
        "from nltk.stem import PorterStemmer\n",
        "from nltk import word_tokenize\n",
        "import re\n",
        "import pickle\n",
        "\n",
        "\n",
        "nltk.download('wordnet')\n",
        "nltk.download('stopwords')\n",
        "nltk.download('punkt')"
      ],
      "execution_count": null,
      "outputs": [
        {
          "output_type": "stream",
          "text": [
            "[nltk_data] Downloading package wordnet to /root/nltk_data...\n",
            "[nltk_data]   Package wordnet is already up-to-date!\n",
            "[nltk_data] Downloading package stopwords to /root/nltk_data...\n",
            "[nltk_data]   Package stopwords is already up-to-date!\n",
            "[nltk_data] Downloading package punkt to /root/nltk_data...\n",
            "[nltk_data]   Package punkt is already up-to-date!\n"
          ],
          "name": "stdout"
        },
        {
          "output_type": "execute_result",
          "data": {
            "text/plain": [
              "True"
            ]
          },
          "metadata": {
            "tags": []
          },
          "execution_count": 27
        }
      ]
    },
    {
      "cell_type": "code",
      "metadata": {
        "colab": {
          "base_uri": "https://localhost:8080/",
          "height": 142
        },
        "id": "eW0LD8BrYcSe",
        "outputId": "22f819c7-c9f3-42d2-aa38-5525731ce679"
      },
      "source": [
        "#to remove html tags, lemmatisation . etc etc\n",
        "additional_stop_words = []                                                      \n",
        "\n",
        "def text_cleanup(text):  \n",
        "    '''\n",
        "    Text pre-processing\n",
        "        return a sentence of cleaned words\n",
        "    '''\n",
        "    text = str(text)\n",
        "    #remove html tags\n",
        "    text_clean = BeautifulSoup(text, \"lxml\").text\n",
        "\n",
        "    ## Convert to lowercase\n",
        "    text_clean = text_clean.lower()\n",
        "    ##Remove non-alphabet\n",
        "    text_clean = re.sub(r'[^a-zA-Z]|(\\w+:\\/\\/\\S+)',' ', text_clean)\n",
        "\n",
        "    ##spliting into tokens\n",
        "    text_clean = text_clean.split()\n",
        "\n",
        "    ##Remove short words (length < 3)\n",
        "    text_clean = [w for w in text_clean if len(w)>2]\n",
        "\n",
        "    ##Lemmatize text ## alternative is to use stemming\n",
        "    #lemmatizer = WordNetLemmatizer()\n",
        "    #text_clean = [lemmatizer.lemmatize(w) for w in text_clean]\n",
        "    \n",
        "    #ps = PorterStemmer()\n",
        "    #text_clean = [ps.stem(w) for w in text_clean]\n",
        "    \n",
        "    ## Filter out stop words in English \n",
        "    stops = set(stopwords.words('english')).union(additional_stop_words)\n",
        "    text_clean = [w for w in text_clean if w not in stops]\n",
        "    \n",
        "    #joining the list into a sentence\n",
        "    mySeparator = \" \"\n",
        "    text_clean = mySeparator.join(text_clean)\n",
        "\n",
        "\n",
        "    return text_clean\n",
        "\n",
        "txt = r\"This movie is not based on the bible. It completely leaves Christ out of the movie. They do not show the rapture or the second coming of Christ. Let alone talk about it. It does not quote from scriptures. The end times are called the great tribulation. The movie does not even show bad times. The seven bowls, seven viles and seven trumpets of judgements are boiled down to a 15 second news cast of the sea changing it's structure. The anti-Christ was killed 3 1/2 years into the tribulation and that is how the movie ended. The only part they got correct was there was two prophets. The did not use there names of course because that would be too close to the truth of scriptures. The worst part of it was I really wanted it to be a good movie. I wanted to take unsaved people to it. I feel that the movie is evil. It is a counterfeit just like everything the devil does. I just hope it does not take away from the upcoming movie based on the left behind books.<br /><br />The second problem with the movie is it was just bad. Bad acting, bad special effects, bad plot and poor character development. I have seen better episodes of Miami vice.\"\n",
        "print('ORIGINAL','\\n', txt)\n",
        "text_cleanup(txt)"
      ],
      "execution_count": null,
      "outputs": [
        {
          "output_type": "stream",
          "text": [
            "ORIGINAL \n",
            " This movie is not based on the bible. It completely leaves Christ out of the movie. They do not show the rapture or the second coming of Christ. Let alone talk about it. It does not quote from scriptures. The end times are called the great tribulation. The movie does not even show bad times. The seven bowls, seven viles and seven trumpets of judgements are boiled down to a 15 second news cast of the sea changing it's structure. The anti-Christ was killed 3 1/2 years into the tribulation and that is how the movie ended. The only part they got correct was there was two prophets. The did not use there names of course because that would be too close to the truth of scriptures. The worst part of it was I really wanted it to be a good movie. I wanted to take unsaved people to it. I feel that the movie is evil. It is a counterfeit just like everything the devil does. I just hope it does not take away from the upcoming movie based on the left behind books.<br /><br />The second problem with the movie is it was just bad. Bad acting, bad special effects, bad plot and poor character development. I have seen better episodes of Miami vice.\n"
          ],
          "name": "stdout"
        },
        {
          "output_type": "execute_result",
          "data": {
            "application/vnd.google.colaboratory.intrinsic+json": {
              "type": "string"
            },
            "text/plain": [
              "'movie based bible completely leaves christ movie show rapture second coming christ let alone talk quote scriptures end times called great tribulation movie even show bad times seven bowls seven viles seven trumpets judgements boiled second news cast sea changing structure anti christ killed years tribulation movie ended part got correct two prophets use names course would close truth scriptures worst part really wanted good movie wanted take unsaved people feel movie evil counterfeit like everything devil hope take away upcoming movie based left behind books second problem movie bad bad acting bad special effects bad plot poor character development seen better episodes miami vice'"
            ]
          },
          "metadata": {
            "tags": []
          },
          "execution_count": 28
        }
      ]
    },
    {
      "cell_type": "code",
      "metadata": {
        "id": "XKJHT3CKXCP2"
      },
      "source": [
        "X = tdf['title'].fillna('').tolist()\n",
        "X = [str(i) for i in X]\n",
        "y = tdf['label'].fillna('').tolist()\n",
        "\n",
        "RANDOM_STATE = 42\n",
        "\n",
        "X_train, X_test, y_train, y_test = train_test_split(X, y, test_size=0.5, random_state=RANDOM_STATE)\n"
      ],
      "execution_count": null,
      "outputs": []
    },
    {
      "cell_type": "code",
      "metadata": {
        "colab": {
          "base_uri": "https://localhost:8080/",
          "height": 116,
          "referenced_widgets": [
            "a1f77687e7aa4e399f38ac25a593bb06",
            "8fdc9808306e4edbad98f3b1e0523941",
            "e7d857f90eb64e33bd10613dbdeffd79",
            "96c0716c74b14d3997198a550104c248",
            "301dc7c23b02490bbade6c7e5186113a",
            "a2d5de1cbc7c41c6998751633d920245",
            "6cde6f21aab64f94b8c5531a2c4ce245",
            "601501a8de584335bd9884ececc13aaa",
            "220600d7fa0146d99ed72f8f6607070c",
            "c4c58f1b9aae42e694f271dbe70f5832",
            "beed4a90ffb04cd3a8e26ec6127a9d08",
            "271932be59d24167b4f7cd15a2ef3cb5",
            "9942e8bf3b384edd90df9774e2ac3bb0",
            "4123f9df7a0c482fa76982f15dea3759",
            "5abacce3c44a4c44a16a24b42a328f25",
            "4c2f1955debe4496bc0b899041f9f46c"
          ]
        },
        "id": "ojmCDcRVUI37",
        "outputId": "c27e47e3-6ced-4eff-ab36-f5efd7589703"
      },
      "source": [
        "from tqdm.notebook import tqdm\n",
        "#for text preprocessing #you can run without doing so\n",
        "\n",
        "#doing list comprehension\n",
        "X_train = [text_cleanup(txt) for txt in tqdm(X_train)]\n",
        "X_test = [text_cleanup(txt) for txt in tqdm(X_test)]"
      ],
      "execution_count": null,
      "outputs": [
        {
          "output_type": "display_data",
          "data": {
            "application/vnd.jupyter.widget-view+json": {
              "model_id": "a1f77687e7aa4e399f38ac25a593bb06",
              "version_minor": 0,
              "version_major": 2
            },
            "text/plain": [
              "HBox(children=(FloatProgress(value=0.0, max=1200.0), HTML(value='')))"
            ]
          },
          "metadata": {
            "tags": []
          }
        },
        {
          "output_type": "stream",
          "text": [
            "\n"
          ],
          "name": "stdout"
        },
        {
          "output_type": "display_data",
          "data": {
            "application/vnd.jupyter.widget-view+json": {
              "model_id": "220600d7fa0146d99ed72f8f6607070c",
              "version_minor": 0,
              "version_major": 2
            },
            "text/plain": [
              "HBox(children=(FloatProgress(value=0.0, max=1200.0), HTML(value='')))"
            ]
          },
          "metadata": {
            "tags": []
          }
        },
        {
          "output_type": "stream",
          "text": [
            "\n"
          ],
          "name": "stdout"
        }
      ]
    },
    {
      "cell_type": "code",
      "metadata": {
        "id": "HCOYTquLWjYR"
      },
      "source": [
        "#vectorising\n",
        "#do use tfidf if you think it helps\n",
        "#if need be, can try to use word embeddings\n",
        "\n",
        "from sklearn.feature_extraction.text import CountVectorizer\n",
        "\n",
        "count_vect = CountVectorizer() \n",
        "X_train = count_vect.fit_transform(X_train)\n",
        "X_test = count_vect.transform(X_test)\n"
      ],
      "execution_count": null,
      "outputs": []
    },
    {
      "cell_type": "code",
      "metadata": {
        "id": "LBDqldQbW0CD"
      },
      "source": [
        "#confusion matrix\n",
        "import seaborn as sns\n",
        "import matplotlib.pyplot as plt\n",
        "from matplotlib import rc\n",
        "\n",
        "def show_confusion_matrix(confusion_matrix):\n",
        "  hmap = sns.heatmap(confusion_matrix, annot=True, fmt=\"d\", cmap=\"Blues\")\n",
        "  hmap.yaxis.set_ticklabels(hmap.yaxis.get_ticklabels(), rotation=0, ha='right')\n",
        "  hmap.xaxis.set_ticklabels(hmap.xaxis.get_ticklabels(), rotation=30, ha='right')\n",
        "  plt.ylabel('Truth')\n",
        "  plt.xlabel('Predicted');"
      ],
      "execution_count": null,
      "outputs": []
    },
    {
      "cell_type": "markdown",
      "metadata": {
        "id": "Pd30lTtjYWrx"
      },
      "source": [
        "Model training"
      ]
    },
    {
      "cell_type": "code",
      "metadata": {
        "id": "Ib7CbVnaXBuK"
      },
      "source": [
        "from sklearn.naive_bayes import MultinomialNB\n",
        "from sklearn.metrics import confusion_matrix, classification_report"
      ],
      "execution_count": null,
      "outputs": []
    },
    {
      "cell_type": "code",
      "metadata": {
        "colab": {
          "base_uri": "https://localhost:8080/"
        },
        "id": "MYU6S8hpUFtq",
        "outputId": "57cd2aad-5095-4384-c0a2-07701732280a"
      },
      "source": [
        "# fitting naive bayes to the training set \n",
        " \n",
        "model = MultinomialNB()\n",
        "%time model.fit(X_train, y_train) \n",
        "  \n",
        "# predicting test set results \n",
        "y_pred = model.predict(X_test) \n",
        "  \n",
        "print(classification_report(y_test, y_pred))"
      ],
      "execution_count": null,
      "outputs": [
        {
          "output_type": "stream",
          "text": [
            "CPU times: user 7.13 ms, sys: 2.98 ms, total: 10.1 ms\n",
            "Wall time: 11.1 ms\n",
            "              precision    recall  f1-score   support\n",
            "\n",
            "           1       0.53      0.70      0.60        46\n",
            "           2       0.75      0.94      0.83        48\n",
            "           3       0.91      0.84      0.87        57\n",
            "           4       0.83      0.77      0.80        52\n",
            "           5       0.87      1.00      0.93        59\n",
            "           6       0.97      0.67      0.80        55\n",
            "           7       0.83      0.68      0.75        44\n",
            "           8       0.95      0.76      0.84        46\n",
            "           9       0.80      0.80      0.80        44\n",
            "          10       0.89      0.77      0.82        52\n",
            "          11       0.95      0.85      0.90        47\n",
            "          12       0.76      0.92      0.83        52\n",
            "          13       0.94      0.96      0.95        52\n",
            "          14       0.98      0.90      0.94        52\n",
            "          15       0.92      0.90      0.91        49\n",
            "          16       0.93      0.90      0.91        48\n",
            "          17       0.88      1.00      0.93        35\n",
            "          18       0.93      1.00      0.97        57\n",
            "          19       0.83      0.92      0.87        49\n",
            "          20       0.98      0.98      0.98        52\n",
            "          21       1.00      1.00      1.00        51\n",
            "          22       1.00      0.72      0.84        53\n",
            "          23       1.00      1.00      1.00        51\n",
            "          24       0.77      1.00      0.87        49\n",
            "\n",
            "    accuracy                           0.88      1200\n",
            "   macro avg       0.88      0.87      0.87      1200\n",
            "weighted avg       0.89      0.88      0.88      1200\n",
            "\n"
          ],
          "name": "stdout"
        }
      ]
    },
    {
      "cell_type": "code",
      "metadata": {
        "colab": {
          "base_uri": "https://localhost:8080/",
          "height": 285
        },
        "id": "6q58N1KDY7XP",
        "outputId": "7751f67b-5a1d-4a40-bf4d-5f937613f0f5"
      },
      "source": [
        "cm = confusion_matrix(y_test, y_pred)\n",
        "df_cm = pd.DataFrame(cm)\n",
        "show_confusion_matrix(df_cm)"
      ],
      "execution_count": null,
      "outputs": [
        {
          "output_type": "display_data",
          "data": {
            "image/png": "[encoded data removed]",
            "text/plain": [
              "<Figure size 432x288 with 2 Axes>"
            ]
          },
          "metadata": {
            "tags": [],
            "needs_background": "light"
          }
        }
      ]
    },
    {
      "cell_type": "code",
      "metadata": {
        "id": "Rv-1kZ8MXsw-"
      },
      "source": [
        "filename = '/content/gdrive/My Drive/group/data/NB_topic_class_model.h5'\n",
        "pickle.dump(model, open(filename, 'wb'))"
      ],
      "execution_count": null,
      "outputs": []
    },
    {
      "cell_type": "markdown",
      "metadata": {
        "id": "-LVJAIGHY4pb"
      },
      "source": [
        "dataset *labelling* with classifier"
      ]
    },
    {
      "cell_type": "code",
      "metadata": {
        "id": "VtjpYTyUZ3Ua"
      },
      "source": [
        "def label_text(text,model,vect):\n",
        "    text = vect.transform([text])\n",
        "    return model.predict(text).flatten()[0]\n",
        "\n",
        "def label_prob(text,model,vect):\n",
        "    text = vect.transform([text])\n",
        "    return model.predict_proba(text).flatten()"
      ],
      "execution_count": null,
      "outputs": []
    },
    {
      "cell_type": "code",
      "metadata": {
        "colab": {
          "base_uri": "https://localhost:8080/",
          "height": 622,
          "referenced_widgets": [
            "ef3f1676642c454fbb4eef512d5a048a",
            "d9c52d766be04f1abe6e6546e65d34ff",
            "782cbf910c344c3ea2fe8b271ec02d69",
            "a0d25ed99b5b45b8b3e9271de80fdd28",
            "89b82e95c62543adae432e6042038a4a",
            "086d605c53254599b51ac782f75bdf28",
            "501efee51d95409f89852f4b6b76c3c2",
            "fee138ac9a814db995552073722dca9b"
          ]
        },
        "id": "7x9elbxrZxeH",
        "outputId": "b40bdcff-b69d-4baa-ffee-9c1f6d1da284"
      },
      "source": [
        "tqdm.pandas()\n",
        "\n",
        "news_df = pd.read_csv('/content/gdrive/My Drive/group/covid_data/covid19_articles_20200914.csv').drop(['Unnamed: 0'],axis=1)\n",
        "news_df['predicted']  = news_df['title'].progress_apply(lambda x: label_text(x,model,count_vect))\n",
        "news_df"
      ],
      "execution_count": null,
      "outputs": [
        {
          "output_type": "display_data",
          "data": {
            "application/vnd.jupyter.widget-view+json": {
              "model_id": "ef3f1676642c454fbb4eef512d5a048a",
              "version_minor": 0,
              "version_major": 2
            },
            "text/plain": [
              "HBox(children=(FloatProgress(value=0.0, max=290479.0), HTML(value='')))"
            ]
          },
          "metadata": {
            "tags": []
          }
        },
        {
          "output_type": "stream",
          "text": [
            "\n"
          ],
          "name": "stdout"
        },
        {
          "output_type": "execute_result",
          "data": {
            "text/html": [
              "<div>\n",
              "<style scoped>\n",
              "    .dataframe tbody tr th:only-of-type {\n",
              "        vertical-align: middle;\n",
              "    }\n",
              "\n",
              "    .dataframe tbody tr th {\n",
              "        vertical-align: top;\n",
              "    }\n",
              "\n",
              "    .dataframe thead th {\n",
              "        text-align: right;\n",
              "    }\n",
              "</style>\n",
              "<table border=\"1\" class=\"dataframe\">\n",
              "  <thead>\n",
              "    <tr style=\"text-align: right;\">\n",
              "      <th></th>\n",
              "      <th>title</th>\n",
              "      <th>url</th>\n",
              "      <th>crawled_time</th>\n",
              "      <th>date</th>\n",
              "      <th>domain</th>\n",
              "      <th>author</th>\n",
              "      <th>content</th>\n",
              "      <th>topic_area</th>\n",
              "      <th>predicted</th>\n",
              "    </tr>\n",
              "  </thead>\n",
              "  <tbody>\n",
              "    <tr>\n",
              "      <th>0</th>\n",
              "      <td>Three Industrial Giants You Should Own In 2020</td>\n",
              "      <td>https://www.marketbeat.com/originals/three-ind...</td>\n",
              "      <td>2020-05-19</td>\n",
              "      <td>2020-01-02</td>\n",
              "      <td>marketbeat</td>\n",
              "      <td>Thomas Hughes</td>\n",
              "      <td>Posted on Thursday, January 2nd, 2020 by Thoma...</td>\n",
              "      <td>business</td>\n",
              "      <td>16</td>\n",
              "    </tr>\n",
              "    <tr>\n",
              "      <th>1</th>\n",
              "      <td>Tesla (TSLA) Breaks Shipment Record, Beats Est...</td>\n",
              "      <td>https://www.marketbeat.com/originals/teal-brea...</td>\n",
              "      <td>2020-05-19</td>\n",
              "      <td>2020-01-03</td>\n",
              "      <td>marketbeat</td>\n",
              "      <td>Steve Anderson</td>\n",
              "      <td>It could be forgiven, that some might think th...</td>\n",
              "      <td>business</td>\n",
              "      <td>16</td>\n",
              "    </tr>\n",
              "    <tr>\n",
              "      <th>2</th>\n",
              "      <td>Labor Stocks Are Going To Break Out In 2020</td>\n",
              "      <td>https://www.marketbeat.com/originals/labor-sto...</td>\n",
              "      <td>2020-05-19</td>\n",
              "      <td>2020-01-03</td>\n",
              "      <td>marketbeat</td>\n",
              "      <td>Thomas Hughes</td>\n",
              "      <td>Posted on Friday, January 3rd, 2020 by Thomas ...</td>\n",
              "      <td>business</td>\n",
              "      <td>6</td>\n",
              "    </tr>\n",
              "    <tr>\n",
              "      <th>3</th>\n",
              "      <td>Cal-Maine Just Shed 12% - But Is Now The Time ...</td>\n",
              "      <td>https://www.marketbeat.com/originals/cal-maine...</td>\n",
              "      <td>2020-05-19</td>\n",
              "      <td>2020-01-06</td>\n",
              "      <td>marketbeat</td>\n",
              "      <td>Thomas Hughes</td>\n",
              "      <td>Posted on Monday, January 6th, 2020 by Thomas ...</td>\n",
              "      <td>business</td>\n",
              "      <td>17</td>\n",
              "    </tr>\n",
              "    <tr>\n",
              "      <th>4</th>\n",
              "      <td>China pneumonia outbreak: It's not SARS, so wh...</td>\n",
              "      <td>https://www.edition.cnn.com/2020/01/06/health/...</td>\n",
              "      <td>2020-06-22</td>\n",
              "      <td>2020-01-06</td>\n",
              "      <td>edition.cnn</td>\n",
              "      <td>Nectar Gan, CNN</td>\n",
              "      <td>A total of 59 cases of unknown viral pneumonia...</td>\n",
              "      <td>business</td>\n",
              "      <td>2</td>\n",
              "    </tr>\n",
              "    <tr>\n",
              "      <th>...</th>\n",
              "      <td>...</td>\n",
              "      <td>...</td>\n",
              "      <td>...</td>\n",
              "      <td>...</td>\n",
              "      <td>...</td>\n",
              "      <td>...</td>\n",
              "      <td>...</td>\n",
              "      <td>...</td>\n",
              "      <td>...</td>\n",
              "    </tr>\n",
              "    <tr>\n",
              "      <th>290474</th>\n",
              "      <td>Trump signs new, expanded executive order to l...</td>\n",
              "      <td>https://finance.yahoo.com/news/trump-signs-exp...</td>\n",
              "      <td>2020-09-14</td>\n",
              "      <td>2020-09-14</td>\n",
              "      <td>finance.yahoo</td>\n",
              "      <td>NaN</td>\n",
              "      <td>WASHINGTON (Reuters) - President Donald Trump ...</td>\n",
              "      <td>business</td>\n",
              "      <td>24</td>\n",
              "    </tr>\n",
              "    <tr>\n",
              "      <th>290475</th>\n",
              "      <td>Nuggets force Game 7 and D'Antoni leaves HOU</td>\n",
              "      <td>https://finance.yahoo.com/news/nuggets-force-g...</td>\n",
              "      <td>2020-09-14</td>\n",
              "      <td>2020-09-14</td>\n",
              "      <td>finance.yahoo</td>\n",
              "      <td>NaN</td>\n",
              "      <td>After the Lakers knocked out the Rockets in fi...</td>\n",
              "      <td>business</td>\n",
              "      <td>19</td>\n",
              "    </tr>\n",
              "    <tr>\n",
              "      <th>290476</th>\n",
              "      <td>Health Official Out To Manipulate CDC Reports ...</td>\n",
              "      <td>https://finance.yahoo.com/news/michael-caputo-...</td>\n",
              "      <td>2020-09-14</td>\n",
              "      <td>2020-09-14</td>\n",
              "      <td>finance.yahoo</td>\n",
              "      <td>NaN</td>\n",
              "      <td>The Health and Human Services official who has...</td>\n",
              "      <td>business</td>\n",
              "      <td>5</td>\n",
              "    </tr>\n",
              "    <tr>\n",
              "      <th>290477</th>\n",
              "      <td>Global Markets: Asian shares buoyed by coronav...</td>\n",
              "      <td>https://finance.yahoo.com/news/global-markets-...</td>\n",
              "      <td>2020-09-14</td>\n",
              "      <td>2020-09-14</td>\n",
              "      <td>finance.yahoo</td>\n",
              "      <td>NaN</td>\n",
              "      <td>By Swati Pandey SYDNEY (Reuters) - Asian share...</td>\n",
              "      <td>business</td>\n",
              "      <td>1</td>\n",
              "    </tr>\n",
              "    <tr>\n",
              "      <th>290478</th>\n",
              "      <td>Japan’s Suga Wins Ruling Party Race to Replace...</td>\n",
              "      <td>https://uk.finance.yahoo.com/news/japan-suga-s...</td>\n",
              "      <td>2020-09-14</td>\n",
              "      <td>2020-09-14</td>\n",
              "      <td>finance.yahoo</td>\n",
              "      <td>NaN</td>\n",
              "      <td>(Bloomberg) -- Japanese Chief Cabinet Secretar...</td>\n",
              "      <td>business</td>\n",
              "      <td>17</td>\n",
              "    </tr>\n",
              "  </tbody>\n",
              "</table>\n",
              "<p>290479 rows × 9 columns</p>\n",
              "</div>"
            ],
            "text/plain": [
              "                                                    title  ... predicted\n",
              "0          Three Industrial Giants You Should Own In 2020  ...        16\n",
              "1       Tesla (TSLA) Breaks Shipment Record, Beats Est...  ...        16\n",
              "2             Labor Stocks Are Going To Break Out In 2020  ...         6\n",
              "3       Cal-Maine Just Shed 12% - But Is Now The Time ...  ...        17\n",
              "4       China pneumonia outbreak: It's not SARS, so wh...  ...         2\n",
              "...                                                   ...  ...       ...\n",
              "290474  Trump signs new, expanded executive order to l...  ...        24\n",
              "290475       Nuggets force Game 7 and D'Antoni leaves HOU  ...        19\n",
              "290476  Health Official Out To Manipulate CDC Reports ...  ...         5\n",
              "290477  Global Markets: Asian shares buoyed by coronav...  ...         1\n",
              "290478  Japan’s Suga Wins Ruling Party Race to Replace...  ...        17\n",
              "\n",
              "[290479 rows x 9 columns]"
            ]
          },
          "metadata": {
            "tags": []
          },
          "execution_count": 38
        }
      ]
    },
    {
      "cell_type": "code",
      "metadata": {
        "colab": {
          "base_uri": "https://localhost:8080/",
          "height": 67,
          "referenced_widgets": [
            "24c25086b5bb4b0d937532bef10feff9",
            "66bb6bbcc394425dbd0dbd6e7195d0e8",
            "5b33d2176cea48a189351f734d8a3b61",
            "79cecec99fca41fc924aa6f447e6a57b",
            "024ca530ba8e4beca329dc796df5feb9",
            "e079ca2ca8504f268898af6d952c689a",
            "f63d1d3082a144739658e4f00285dbd2",
            "3326d3b4dc5c46aea40a6b1b4003c259"
          ]
        },
        "id": "lfXvySJVaG8q",
        "outputId": "93a97596-c4c6-49e1-e483-01b1ec6e2434"
      },
      "source": [
        "news_df['predicted_probability']  = news_df['title'].progress_apply(lambda x: label_prob(x,model,count_vect))\n"
      ],
      "execution_count": null,
      "outputs": [
        {
          "output_type": "display_data",
          "data": {
            "application/vnd.jupyter.widget-view+json": {
              "model_id": "24c25086b5bb4b0d937532bef10feff9",
              "version_minor": 0,
              "version_major": 2
            },
            "text/plain": [
              "HBox(children=(FloatProgress(value=0.0, max=290479.0), HTML(value='')))"
            ]
          },
          "metadata": {
            "tags": []
          }
        },
        {
          "output_type": "stream",
          "text": [
            "\n"
          ],
          "name": "stdout"
        }
      ]
    },
    {
      "cell_type": "code",
      "metadata": {
        "colab": {
          "base_uri": "https://localhost:8080/",
          "height": 767
        },
        "id": "b1JnXuARbjkz",
        "outputId": "7a5538cc-94b8-4339-9cff-1892edafa895"
      },
      "source": [
        "#attaching label\n",
        "path = '/content/gdrive/MyDrive/group/topic_classification.xlsx' #this is from our topic models\n",
        "df = pd.read_excel(path)\n",
        "tdf = df[['topic number','topic name']].drop_duplicates()\n",
        "tdf.columns = ['predicted','topic_label']\n",
        "tdf"
      ],
      "execution_count": null,
      "outputs": [
        {
          "output_type": "execute_result",
          "data": {
            "text/html": [
              "<div>\n",
              "<style scoped>\n",
              "    .dataframe tbody tr th:only-of-type {\n",
              "        vertical-align: middle;\n",
              "    }\n",
              "\n",
              "    .dataframe tbody tr th {\n",
              "        vertical-align: top;\n",
              "    }\n",
              "\n",
              "    .dataframe thead th {\n",
              "        text-align: right;\n",
              "    }\n",
              "</style>\n",
              "<table border=\"1\" class=\"dataframe\">\n",
              "  <thead>\n",
              "    <tr style=\"text-align: right;\">\n",
              "      <th></th>\n",
              "      <th>predicted</th>\n",
              "      <th>topic_label</th>\n",
              "    </tr>\n",
              "  </thead>\n",
              "  <tbody>\n",
              "    <tr>\n",
              "      <th>0</th>\n",
              "      <td>1</td>\n",
              "      <td>china coronavirus/virus</td>\n",
              "    </tr>\n",
              "    <tr>\n",
              "      <th>100</th>\n",
              "      <td>2</td>\n",
              "      <td>coronavirus outbreak</td>\n",
              "    </tr>\n",
              "    <tr>\n",
              "      <th>200</th>\n",
              "      <td>3</td>\n",
              "      <td>death toll</td>\n",
              "    </tr>\n",
              "    <tr>\n",
              "      <th>300</th>\n",
              "      <td>4</td>\n",
              "      <td>coronavirus spread</td>\n",
              "    </tr>\n",
              "    <tr>\n",
              "      <th>400</th>\n",
              "      <td>5</td>\n",
              "      <td>white house</td>\n",
              "    </tr>\n",
              "    <tr>\n",
              "      <th>500</th>\n",
              "      <td>6</td>\n",
              "      <td>stock market</td>\n",
              "    </tr>\n",
              "    <tr>\n",
              "      <th>600</th>\n",
              "      <td>7</td>\n",
              "      <td>coronavirus case</td>\n",
              "    </tr>\n",
              "    <tr>\n",
              "      <th>700</th>\n",
              "      <td>8</td>\n",
              "      <td>Covid test</td>\n",
              "    </tr>\n",
              "    <tr>\n",
              "      <th>800</th>\n",
              "      <td>9</td>\n",
              "      <td>coronavirus impact</td>\n",
              "    </tr>\n",
              "    <tr>\n",
              "      <th>900</th>\n",
              "      <td>10</td>\n",
              "      <td>Coronavirus pandemic</td>\n",
              "    </tr>\n",
              "    <tr>\n",
              "      <th>1000</th>\n",
              "      <td>11</td>\n",
              "      <td>Social distance</td>\n",
              "    </tr>\n",
              "    <tr>\n",
              "      <th>1100</th>\n",
              "      <td>12</td>\n",
              "      <td>coronavirus lockdown</td>\n",
              "    </tr>\n",
              "    <tr>\n",
              "      <th>1200</th>\n",
              "      <td>13</td>\n",
              "      <td>wall street</td>\n",
              "    </tr>\n",
              "    <tr>\n",
              "      <th>1300</th>\n",
              "      <td>14</td>\n",
              "      <td>fight covid</td>\n",
              "    </tr>\n",
              "    <tr>\n",
              "      <th>1400</th>\n",
              "      <td>15</td>\n",
              "      <td>mask</td>\n",
              "    </tr>\n",
              "    <tr>\n",
              "      <th>1500</th>\n",
              "      <td>16</td>\n",
              "      <td>financial</td>\n",
              "    </tr>\n",
              "    <tr>\n",
              "      <th>1600</th>\n",
              "      <td>17</td>\n",
              "      <td>coronavirus vaccine</td>\n",
              "    </tr>\n",
              "    <tr>\n",
              "      <th>1700</th>\n",
              "      <td>18</td>\n",
              "      <td>small business</td>\n",
              "    </tr>\n",
              "    <tr>\n",
              "      <th>1800</th>\n",
              "      <td>19</td>\n",
              "      <td>Trump</td>\n",
              "    </tr>\n",
              "    <tr>\n",
              "      <th>1900</th>\n",
              "      <td>20</td>\n",
              "      <td>new york</td>\n",
              "    </tr>\n",
              "    <tr>\n",
              "      <th>2000</th>\n",
              "      <td>21</td>\n",
              "      <td>hedge fund</td>\n",
              "    </tr>\n",
              "    <tr>\n",
              "      <th>2100</th>\n",
              "      <td>22</td>\n",
              "      <td>job</td>\n",
              "    </tr>\n",
              "    <tr>\n",
              "      <th>2200</th>\n",
              "      <td>23</td>\n",
              "      <td>conference call</td>\n",
              "    </tr>\n",
              "    <tr>\n",
              "      <th>2300</th>\n",
              "      <td>24</td>\n",
              "      <td>oil price</td>\n",
              "    </tr>\n",
              "  </tbody>\n",
              "</table>\n",
              "</div>"
            ],
            "text/plain": [
              "      predicted              topic_label\n",
              "0             1  china coronavirus/virus\n",
              "100           2     coronavirus outbreak\n",
              "200           3               death toll\n",
              "300           4       coronavirus spread\n",
              "400           5              white house\n",
              "500           6             stock market\n",
              "600           7         coronavirus case\n",
              "700           8               Covid test\n",
              "800           9       coronavirus impact\n",
              "900          10     Coronavirus pandemic\n",
              "1000         11          Social distance\n",
              "1100         12     coronavirus lockdown\n",
              "1200         13              wall street\n",
              "1300         14              fight covid\n",
              "1400         15                     mask\n",
              "1500         16                financial\n",
              "1600         17      coronavirus vaccine\n",
              "1700         18           small business\n",
              "1800         19                    Trump\n",
              "1900         20                 new york\n",
              "2000         21               hedge fund\n",
              "2100         22                      job\n",
              "2200         23          conference call\n",
              "2300         24                oil price"
            ]
          },
          "metadata": {
            "tags": []
          },
          "execution_count": 40
        }
      ]
    },
    {
      "cell_type": "code",
      "metadata": {
        "id": "bbI7uSXkcKA4"
      },
      "source": [
        "dd = pd.merge(news_df,tdf,on='predicted')"
      ],
      "execution_count": null,
      "outputs": []
    },
    {
      "cell_type": "code",
      "metadata": {
        "colab": {
          "base_uri": "https://localhost:8080/"
        },
        "id": "mNA8mPYCR2fG",
        "outputId": "d10d8bae-1c0a-4ef3-a82c-bff5cc273cc2"
      },
      "source": [
        "dd.predicted.value_counts()"
      ],
      "execution_count": null,
      "outputs": [
        {
          "output_type": "execute_result",
          "data": {
            "text/plain": [
              "16    34734\n",
              "17    25199\n",
              "12    21196\n",
              "19    14951\n",
              "6     14632\n",
              "8     14206\n",
              "9     13931\n",
              "14    13654\n",
              "1     12880\n",
              "10    12712\n",
              "2     12673\n",
              "24    12606\n",
              "7     12255\n",
              "20    10043\n",
              "15     8987\n",
              "11     7797\n",
              "4      6745\n",
              "13     6651\n",
              "22     6558\n",
              "18     6269\n",
              "3      6024\n",
              "5      5834\n",
              "23     5098\n",
              "21     4844\n",
              "Name: predicted, dtype: int64"
            ]
          },
          "metadata": {
            "tags": []
          },
          "execution_count": 42
        }
      ]
    },
    {
      "cell_type": "code",
      "metadata": {
        "id": "Yz7ZT1xhcxOb"
      },
      "source": [
        "#exporting to csv\n",
        "pd.merge(news_df,tdf,on='predicted').to_csv('/content/gdrive/MyDrive/group/topic_labelled.csv')"
      ],
      "execution_count": null,
      "outputs": []
    },
    {
      "cell_type": "code",
      "metadata": {
        "id": "XEvwbWikMEK6"
      },
      "source": [
        ""
      ],
      "execution_count": null,
      "outputs": []
    }
  ]
}